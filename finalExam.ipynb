{
  "nbformat": 4,
  "nbformat_minor": 0,
  "metadata": {
    "colab": {
      "provenance": []
    },
    "kernelspec": {
      "name": "python3",
      "display_name": "Python 3"
    },
    "language_info": {
      "name": "python"
    }
  },
  "cells": [
    {
      "cell_type": "markdown",
      "source": [
        "#**My Jupyter Notebook on IBM Wastson Studio**"
      ],
      "metadata": {
        "id": "ahAeoX2CJ9Kz"
      }
    },
    {
      "cell_type": "markdown",
      "source": [
        "**Segodo Ulrich**  \n",
        "Student"
      ],
      "metadata": {
        "id": "2OpSx9pZLIgA"
      }
    },
    {
      "cell_type": "markdown",
      "source": [
        "*I am interested in data science because i love the story that data can tell*"
      ],
      "metadata": {
        "id": "cJe3meF9MA_P"
      }
    },
    {
      "cell_type": "markdown",
      "source": [
        "###**The following code displays the person's name plus the current time**"
      ],
      "metadata": {
        "id": "rnEJwcxINIRI"
      }
    },
    {
      "cell_type": "code",
      "source": [
        "import datetime\n",
        "name = input(\"Please, enter your name : \")\n",
        "x = datetime.datetime.now()\n",
        "print(\"Hello\",name,\". It is\", x.strftime(\"%I:%M %p\"))"
      ],
      "metadata": {
        "colab": {
          "base_uri": "https://localhost:8080/"
        },
        "id": "PUQgZfz9QCCW",
        "outputId": "496a612e-a30e-4e58-ec53-59b0bce8a9a6"
      },
      "execution_count": 15,
      "outputs": [
        {
          "output_type": "stream",
          "name": "stdout",
          "text": [
            "Please, enter your name : Ulrich\n",
            "Hello Ulrich . It is 05:01 PM\n"
          ]
        }
      ]
    },
    {
      "cell_type": "markdown",
      "source": [
        "***\n",
        "Horizontale rule\n",
        "***\n",
        "\n",
        "<a href=\"www.google.com\">hyperlink Google</a>\n",
        "\n",
        "* This is a bullet list\n",
        "* This is a bullet list\n",
        "* This is a bullet list\n",
        "\n",
        "\n",
        "1. This is a number list\n",
        "2. This is a number list\n",
        "3. This is a number list \n",
        "4. This is a number list"
      ],
      "metadata": {
        "id": "5xtTQLhvUNRS"
      }
    }
  ]
}